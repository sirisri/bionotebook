{
 "cells": [
  {
   "cell_type": "markdown",
   "metadata": {},
   "source": [
    "# TCSS 588 lecture 2 20180328"
   ]
  },
  {
   "cell_type": "code",
   "execution_count": 1,
   "metadata": {},
   "outputs": [
    {
     "data": {
      "text/html": [
       "4"
      ],
      "text/latex": [
       "4"
      ],
      "text/markdown": [
       "4"
      ],
      "text/plain": [
       "[1] 4"
      ]
     },
     "metadata": {},
     "output_type": "display_data"
    }
   ],
   "source": [
    "1 + 3"
   ]
  },
  {
   "cell_type": "code",
   "execution_count": 2,
   "metadata": {},
   "outputs": [
    {
     "name": "stdout",
     "output_type": "stream",
     "text": [
      "[1] \"hello world\\n\"\n"
     ]
    }
   ],
   "source": [
    "print (\"hello world\\n\")"
   ]
  },
  {
   "cell_type": "code",
   "execution_count": 3,
   "metadata": {},
   "outputs": [
    {
     "data": {
      "text/html": [
       "'/Users/kayee/UW-Tacoma/TCSS588/kayee-spring2018/avi-project/ADR'"
      ],
      "text/latex": [
       "'/Users/kayee/UW-Tacoma/TCSS588/kayee-spring2018/avi-project/ADR'"
      ],
      "text/markdown": [
       "'/Users/kayee/UW-Tacoma/TCSS588/kayee-spring2018/avi-project/ADR'"
      ],
      "text/plain": [
       "[1] \"/Users/kayee/UW-Tacoma/TCSS588/kayee-spring2018/avi-project/ADR\""
      ]
     },
     "metadata": {},
     "output_type": "display_data"
    }
   ],
   "source": [
    "getwd()"
   ]
  },
  {
   "cell_type": "markdown",
   "metadata": {},
   "source": [
    "## 1. Download the data and read this into R"
   ]
  },
  {
   "cell_type": "code",
   "execution_count": 4,
   "metadata": {
    "collapsed": true
   },
   "outputs": [],
   "source": [
    "help (read.table)"
   ]
  },
  {
   "cell_type": "code",
   "execution_count": 5,
   "metadata": {
    "collapsed": true
   },
   "outputs": [],
   "source": [
    "my.data <- read.table (file=\"gene_expression_n438x978.txt\", sep=\"\\t\", header=T)"
   ]
  },
  {
   "cell_type": "code",
   "execution_count": 6,
   "metadata": {},
   "outputs": [
    {
     "data": {
      "text/html": [
       "<table>\n",
       "<thead><tr><th scope=col>X</th><th scope=col>PSME1</th><th scope=col>ATF1</th><th scope=col>RHEB</th><th scope=col>FOXO3</th><th scope=col>RHOA</th><th scope=col>IL1B</th></tr></thead>\n",
       "<tbody>\n",
       "\t<tr><td>ACETAZOLAMIDE      </td><td>-0.015159099       </td><td>-0.031470528       </td><td>-0.004733488       </td><td> 0.02591061        </td><td> 0.0056296773      </td><td>-0.007325439       </td></tr>\n",
       "\t<tr><td>IRBESARTAN         </td><td>-0.026811981       </td><td> 0.012151979       </td><td>-0.025550148       </td><td>-0.02401181        </td><td>-0.0106717396      </td><td> 0.070951154       </td></tr>\n",
       "\t<tr><td>IPRATROPIUM BROMIDE</td><td> 0.001017958       </td><td>-0.008650622       </td><td>-0.018128698       </td><td>-0.02079971        </td><td>-0.0002722781      </td><td> 0.025003360       </td></tr>\n",
       "\t<tr><td>EFAVIRENZ          </td><td>-0.004398264       </td><td> 0.055387992       </td><td> 0.004658520       </td><td> 0.01380732        </td><td>-0.0340697348      </td><td> 0.024005885       </td></tr>\n",
       "\t<tr><td>THIAMINE           </td><td> 0.001838965       </td><td>-0.018079188       </td><td>-0.011855532       </td><td>-0.03705033        </td><td>-0.0133954959      </td><td>-0.001752450       </td></tr>\n",
       "</tbody>\n",
       "</table>\n"
      ],
      "text/latex": [
       "\\begin{tabular}{r|lllllll}\n",
       " X & PSME1 & ATF1 & RHEB & FOXO3 & RHOA & IL1B\\\\\n",
       "\\hline\n",
       "\t ACETAZOLAMIDE       & -0.015159099        & -0.031470528        & -0.004733488        &  0.02591061         &  0.0056296773       & -0.007325439       \\\\\n",
       "\t IRBESARTAN          & -0.026811981        &  0.012151979        & -0.025550148        & -0.02401181         & -0.0106717396       &  0.070951154       \\\\\n",
       "\t IPRATROPIUM BROMIDE &  0.001017958        & -0.008650622        & -0.018128698        & -0.02079971         & -0.0002722781       &  0.025003360       \\\\\n",
       "\t EFAVIRENZ           & -0.004398264        &  0.055387992        &  0.004658520        &  0.01380732         & -0.0340697348       &  0.024005885       \\\\\n",
       "\t THIAMINE            &  0.001838965        & -0.018079188        & -0.011855532        & -0.03705033         & -0.0133954959       & -0.001752450       \\\\\n",
       "\\end{tabular}\n"
      ],
      "text/markdown": [
       "\n",
       "X | PSME1 | ATF1 | RHEB | FOXO3 | RHOA | IL1B | \n",
       "|---|---|---|---|---|\n",
       "| ACETAZOLAMIDE       | -0.015159099        | -0.031470528        | -0.004733488        |  0.02591061         |  0.0056296773       | -0.007325439        | \n",
       "| IRBESARTAN          | -0.026811981        |  0.012151979        | -0.025550148        | -0.02401181         | -0.0106717396       |  0.070951154        | \n",
       "| IPRATROPIUM BROMIDE |  0.001017958        | -0.008650622        | -0.018128698        | -0.02079971         | -0.0002722781       |  0.025003360        | \n",
       "| EFAVIRENZ           | -0.004398264        |  0.055387992        |  0.004658520        |  0.01380732         | -0.0340697348       |  0.024005885        | \n",
       "| THIAMINE            |  0.001838965        | -0.018079188        | -0.011855532        | -0.03705033         | -0.0133954959       | -0.001752450        | \n",
       "\n",
       "\n"
      ],
      "text/plain": [
       "  X                   PSME1        ATF1         RHEB         FOXO3      \n",
       "1 ACETAZOLAMIDE       -0.015159099 -0.031470528 -0.004733488  0.02591061\n",
       "2 IRBESARTAN          -0.026811981  0.012151979 -0.025550148 -0.02401181\n",
       "3 IPRATROPIUM BROMIDE  0.001017958 -0.008650622 -0.018128698 -0.02079971\n",
       "4 EFAVIRENZ           -0.004398264  0.055387992  0.004658520  0.01380732\n",
       "5 THIAMINE             0.001838965 -0.018079188 -0.011855532 -0.03705033\n",
       "  RHOA          IL1B        \n",
       "1  0.0056296773 -0.007325439\n",
       "2 -0.0106717396  0.070951154\n",
       "3 -0.0002722781  0.025003360\n",
       "4 -0.0340697348  0.024005885\n",
       "5 -0.0133954959 -0.001752450"
      ]
     },
     "metadata": {},
     "output_type": "display_data"
    }
   ],
   "source": [
    "my.data[1:5, 1:7]"
   ]
  },
  {
   "cell_type": "code",
   "execution_count": 7,
   "metadata": {},
   "outputs": [
    {
     "data": {
      "text/html": [
       "<table>\n",
       "<thead><tr><th></th><th scope=col>NFKBIA</th><th scope=col>NFKBIE</th><th scope=col>CCNH</th><th scope=col>HMGA2</th><th scope=col>IGFBP3</th><th scope=col>FRS2</th><th scope=col>IFNAR1</th><th scope=col>MIF</th><th scope=col>DAG1</th><th scope=col>IGF2BP2</th></tr></thead>\n",
       "<tbody>\n",
       "\t<tr><th scope=row>101</th><td>-0.03166169  </td><td>0.01705320   </td><td>-0.0142124559</td><td>-0.015272992 </td><td>-0.013694120 </td><td> 0.005602638 </td><td>-0.01008991  </td><td>-0.0046241784</td><td>0.008164756  </td><td>-0.0250272780</td></tr>\n",
       "\t<tr><th scope=row>102</th><td>-0.03097310  </td><td>0.03440224   </td><td> 0.0025100599</td><td>-0.020967721 </td><td> 0.005700945 </td><td>-0.004132518 </td><td> 0.02691253  </td><td>-0.0001289621</td><td>0.003634794  </td><td>-0.0093396800</td></tr>\n",
       "\t<tr><th scope=row>103</th><td> 0.01155199  </td><td>0.01973762   </td><td>-0.0004149873</td><td>-0.001304998 </td><td>-0.006642021 </td><td>-0.034261456 </td><td>-0.02221253  </td><td>-0.0294397350</td><td>0.018621010  </td><td> 0.0007113519</td></tr>\n",
       "</tbody>\n",
       "</table>\n"
      ],
      "text/latex": [
       "\\begin{tabular}{r|llllllllll}\n",
       "  & NFKBIA & NFKBIE & CCNH & HMGA2 & IGFBP3 & FRS2 & IFNAR1 & MIF & DAG1 & IGF2BP2\\\\\n",
       "\\hline\n",
       "\t101 & -0.03166169   & 0.01705320    & -0.0142124559 & -0.015272992  & -0.013694120  &  0.005602638  & -0.01008991   & -0.0046241784 & 0.008164756   & -0.0250272780\\\\\n",
       "\t102 & -0.03097310   & 0.03440224    &  0.0025100599 & -0.020967721  &  0.005700945  & -0.004132518  &  0.02691253   & -0.0001289621 & 0.003634794   & -0.0093396800\\\\\n",
       "\t103 &  0.01155199   & 0.01973762    & -0.0004149873 & -0.001304998  & -0.006642021  & -0.034261456  & -0.02221253   & -0.0294397350 & 0.018621010   &  0.0007113519\\\\\n",
       "\\end{tabular}\n"
      ],
      "text/markdown": [
       "\n",
       "| <!--/--> | NFKBIA | NFKBIE | CCNH | HMGA2 | IGFBP3 | FRS2 | IFNAR1 | MIF | DAG1 | IGF2BP2 | \n",
       "|---|---|---|\n",
       "| 101 | -0.03166169   | 0.01705320    | -0.0142124559 | -0.015272992  | -0.013694120  |  0.005602638  | -0.01008991   | -0.0046241784 | 0.008164756   | -0.0250272780 | \n",
       "| 102 | -0.03097310   | 0.03440224    |  0.0025100599 | -0.020967721  |  0.005700945  | -0.004132518  |  0.02691253   | -0.0001289621 | 0.003634794   | -0.0093396800 | \n",
       "| 103 |  0.01155199   | 0.01973762    | -0.0004149873 | -0.001304998  | -0.006642021  | -0.034261456  | -0.02221253   | -0.0294397350 | 0.018621010   |  0.0007113519 | \n",
       "\n",
       "\n"
      ],
      "text/plain": [
       "    NFKBIA      NFKBIE     CCNH          HMGA2        IGFBP3       FRS2        \n",
       "101 -0.03166169 0.01705320 -0.0142124559 -0.015272992 -0.013694120  0.005602638\n",
       "102 -0.03097310 0.03440224  0.0025100599 -0.020967721  0.005700945 -0.004132518\n",
       "103  0.01155199 0.01973762 -0.0004149873 -0.001304998 -0.006642021 -0.034261456\n",
       "    IFNAR1      MIF           DAG1        IGF2BP2      \n",
       "101 -0.01008991 -0.0046241784 0.008164756 -0.0250272780\n",
       "102  0.02691253 -0.0001289621 0.003634794 -0.0093396800\n",
       "103 -0.02221253 -0.0294397350 0.018621010  0.0007113519"
      ]
     },
     "metadata": {},
     "output_type": "display_data"
    }
   ],
   "source": [
    "my.data[101:103, 99:108]"
   ]
  },
  {
   "cell_type": "code",
   "execution_count": 8,
   "metadata": {},
   "outputs": [
    {
     "data": {
      "text/html": [
       "<ol class=list-inline>\n",
       "\t<li>438</li>\n",
       "\t<li>979</li>\n",
       "</ol>\n"
      ],
      "text/latex": [
       "\\begin{enumerate*}\n",
       "\\item 438\n",
       "\\item 979\n",
       "\\end{enumerate*}\n"
      ],
      "text/markdown": [
       "1. 438\n",
       "2. 979\n",
       "\n",
       "\n"
      ],
      "text/plain": [
       "[1] 438 979"
      ]
     },
     "metadata": {},
     "output_type": "display_data"
    }
   ],
   "source": [
    "dim (my.data)"
   ]
  },
  {
   "cell_type": "code",
   "execution_count": 9,
   "metadata": {
    "collapsed": true
   },
   "outputs": [],
   "source": [
    "dimnames(my.data)[[1]] <- my.data[, 1]\n",
    "my.data <- my.data[, -1]"
   ]
  },
  {
   "cell_type": "code",
   "execution_count": 10,
   "metadata": {},
   "outputs": [
    {
     "data": {
      "text/html": [
       "<table>\n",
       "<thead><tr><th></th><th scope=col>PSME1</th><th scope=col>ATF1</th><th scope=col>RHEB</th><th scope=col>FOXO3</th><th scope=col>RHOA</th><th scope=col>IL1B</th><th scope=col>ASAH1</th></tr></thead>\n",
       "<tbody>\n",
       "\t<tr><th scope=row>ACETAZOLAMIDE</th><td>-0.015159099 </td><td>-0.031470528 </td><td>-0.004733488 </td><td> 0.02591061  </td><td> 0.0056296773</td><td>-0.007325439 </td><td> 0.011877825 </td></tr>\n",
       "\t<tr><th scope=row>IRBESARTAN</th><td>-0.026811981 </td><td> 0.012151979 </td><td>-0.025550148 </td><td>-0.02401181  </td><td>-0.0106717396</td><td> 0.070951154 </td><td> 0.003130203 </td></tr>\n",
       "\t<tr><th scope=row>IPRATROPIUM BROMIDE</th><td> 0.001017958 </td><td>-0.008650622 </td><td>-0.018128698 </td><td>-0.02079971  </td><td>-0.0002722781</td><td> 0.025003360 </td><td>-0.011930075 </td></tr>\n",
       "\t<tr><th scope=row>EFAVIRENZ</th><td>-0.004398264 </td><td> 0.055387992 </td><td> 0.004658520 </td><td> 0.01380732  </td><td>-0.0340697348</td><td> 0.024005885 </td><td> 0.028270797 </td></tr>\n",
       "\t<tr><th scope=row>THIAMINE</th><td> 0.001838965 </td><td>-0.018079188 </td><td>-0.011855532 </td><td>-0.03705033  </td><td>-0.0133954959</td><td>-0.001752450 </td><td>-0.005194435 </td></tr>\n",
       "</tbody>\n",
       "</table>\n"
      ],
      "text/latex": [
       "\\begin{tabular}{r|lllllll}\n",
       "  & PSME1 & ATF1 & RHEB & FOXO3 & RHOA & IL1B & ASAH1\\\\\n",
       "\\hline\n",
       "\tACETAZOLAMIDE & -0.015159099  & -0.031470528  & -0.004733488  &  0.02591061   &  0.0056296773 & -0.007325439  &  0.011877825 \\\\\n",
       "\tIRBESARTAN & -0.026811981  &  0.012151979  & -0.025550148  & -0.02401181   & -0.0106717396 &  0.070951154  &  0.003130203 \\\\\n",
       "\tIPRATROPIUM BROMIDE &  0.001017958  & -0.008650622  & -0.018128698  & -0.02079971   & -0.0002722781 &  0.025003360  & -0.011930075 \\\\\n",
       "\tEFAVIRENZ & -0.004398264  &  0.055387992  &  0.004658520  &  0.01380732   & -0.0340697348 &  0.024005885  &  0.028270797 \\\\\n",
       "\tTHIAMINE &  0.001838965  & -0.018079188  & -0.011855532  & -0.03705033   & -0.0133954959 & -0.001752450  & -0.005194435 \\\\\n",
       "\\end{tabular}\n"
      ],
      "text/markdown": [
       "\n",
       "| <!--/--> | PSME1 | ATF1 | RHEB | FOXO3 | RHOA | IL1B | ASAH1 | \n",
       "|---|---|---|---|---|\n",
       "| ACETAZOLAMIDE | -0.015159099  | -0.031470528  | -0.004733488  |  0.02591061   |  0.0056296773 | -0.007325439  |  0.011877825  | \n",
       "| IRBESARTAN | -0.026811981  |  0.012151979  | -0.025550148  | -0.02401181   | -0.0106717396 |  0.070951154  |  0.003130203  | \n",
       "| IPRATROPIUM BROMIDE |  0.001017958  | -0.008650622  | -0.018128698  | -0.02079971   | -0.0002722781 |  0.025003360  | -0.011930075  | \n",
       "| EFAVIRENZ | -0.004398264  |  0.055387992  |  0.004658520  |  0.01380732   | -0.0340697348 |  0.024005885  |  0.028270797  | \n",
       "| THIAMINE |  0.001838965  | -0.018079188  | -0.011855532  | -0.03705033   | -0.0133954959 | -0.001752450  | -0.005194435  | \n",
       "\n",
       "\n"
      ],
      "text/plain": [
       "                    PSME1        ATF1         RHEB         FOXO3      \n",
       "ACETAZOLAMIDE       -0.015159099 -0.031470528 -0.004733488  0.02591061\n",
       "IRBESARTAN          -0.026811981  0.012151979 -0.025550148 -0.02401181\n",
       "IPRATROPIUM BROMIDE  0.001017958 -0.008650622 -0.018128698 -0.02079971\n",
       "EFAVIRENZ           -0.004398264  0.055387992  0.004658520  0.01380732\n",
       "THIAMINE             0.001838965 -0.018079188 -0.011855532 -0.03705033\n",
       "                    RHOA          IL1B         ASAH1       \n",
       "ACETAZOLAMIDE        0.0056296773 -0.007325439  0.011877825\n",
       "IRBESARTAN          -0.0106717396  0.070951154  0.003130203\n",
       "IPRATROPIUM BROMIDE -0.0002722781  0.025003360 -0.011930075\n",
       "EFAVIRENZ           -0.0340697348  0.024005885  0.028270797\n",
       "THIAMINE            -0.0133954959 -0.001752450 -0.005194435"
      ]
     },
     "metadata": {},
     "output_type": "display_data"
    }
   ],
   "source": [
    "my.data[1:5, 1:7]"
   ]
  },
  {
   "cell_type": "code",
   "execution_count": 15,
   "metadata": {},
   "outputs": [
    {
     "data": {
      "text/html": [
       "<ol class=list-inline>\n",
       "\t<li>-0.0151590991157</li>\n",
       "\t<li>-0.0268119808259</li>\n",
       "\t<li>0.0010179582179</li>\n",
       "\t<li>-0.00439826420702</li>\n",
       "\t<li>0.00183896461475</li>\n",
       "</ol>\n"
      ],
      "text/latex": [
       "\\begin{enumerate*}\n",
       "\\item -0.0151590991157\n",
       "\\item -0.0268119808259\n",
       "\\item 0.0010179582179\n",
       "\\item -0.00439826420702\n",
       "\\item 0.00183896461475\n",
       "\\end{enumerate*}\n"
      ],
      "text/markdown": [
       "1. -0.0151590991157\n",
       "2. -0.0268119808259\n",
       "3. 0.0010179582179\n",
       "4. -0.00439826420702\n",
       "5. 0.00183896461475\n",
       "\n",
       "\n"
      ],
      "text/plain": [
       "[1] -0.015159099 -0.026811981  0.001017958 -0.004398264  0.001838965"
      ]
     },
     "metadata": {},
     "output_type": "display_data"
    }
   ],
   "source": [
    "my.data[1:5, 'PSME1']"
   ]
  },
  {
   "cell_type": "code",
   "execution_count": 12,
   "metadata": {},
   "outputs": [
    {
     "data": {
      "text/html": [
       "<ol class=list-inline>\n",
       "\t<li>'PSME1'</li>\n",
       "\t<li>'ATF1'</li>\n",
       "\t<li>'RHEB'</li>\n",
       "\t<li>'FOXO3'</li>\n",
       "\t<li>'RHOA'</li>\n",
       "</ol>\n"
      ],
      "text/latex": [
       "\\begin{enumerate*}\n",
       "\\item 'PSME1'\n",
       "\\item 'ATF1'\n",
       "\\item 'RHEB'\n",
       "\\item 'FOXO3'\n",
       "\\item 'RHOA'\n",
       "\\end{enumerate*}\n"
      ],
      "text/markdown": [
       "1. 'PSME1'\n",
       "2. 'ATF1'\n",
       "3. 'RHEB'\n",
       "4. 'FOXO3'\n",
       "5. 'RHOA'\n",
       "\n",
       "\n"
      ],
      "text/plain": [
       "[1] \"PSME1\" \"ATF1\"  \"RHEB\"  \"FOXO3\" \"RHOA\" "
      ]
     },
     "metadata": {},
     "output_type": "display_data"
    }
   ],
   "source": [
    "dimnames(my.data)[[2]][1:5]"
   ]
  },
  {
   "cell_type": "markdown",
   "metadata": {},
   "source": [
    "## 2. Plot a histogram"
   ]
  },
  {
   "cell_type": "code",
   "execution_count": 16,
   "metadata": {
    "collapsed": true
   },
   "outputs": [],
   "source": [
    "help (hist)"
   ]
  },
  {
   "cell_type": "code",
   "execution_count": 17,
   "metadata": {},
   "outputs": [
    {
     "data": {
      "text/html": [
       "<ol class=list-inline>\n",
       "\t<li>438</li>\n",
       "\t<li>978</li>\n",
       "</ol>\n"
      ],
      "text/latex": [
       "\\begin{enumerate*}\n",
       "\\item 438\n",
       "\\item 978\n",
       "\\end{enumerate*}\n"
      ],
      "text/markdown": [
       "1. 438\n",
       "2. 978\n",
       "\n",
       "\n"
      ],
      "text/plain": [
       "[1] 438 978"
      ]
     },
     "metadata": {},
     "output_type": "display_data"
    }
   ],
   "source": [
    "dim (my.data)"
   ]
  },
  {
   "cell_type": "code",
   "execution_count": 18,
   "metadata": {},
   "outputs": [
    {
     "ename": "ERROR",
     "evalue": "Error in hist.default(my.data): 'x' must be numeric\n",
     "output_type": "error",
     "traceback": [
      "Error in hist.default(my.data): 'x' must be numeric\nTraceback:\n",
      "1. hist(my.data)",
      "2. hist.default(my.data)",
      "3. stop(\"'x' must be numeric\")"
     ]
    }
   ],
   "source": [
    "hist (my.data)"
   ]
  },
  {
   "cell_type": "code",
   "execution_count": 27,
   "metadata": {},
   "outputs": [
    {
     "data": {
      "image/png": "[encoded data removed]",
      "text/plain": [
       "Plot with title “Histogram of ADR gene expression data”"
      ]
     },
     "metadata": {},
     "output_type": "display_data"
    }
   ],
   "source": [
    "hist (as.vector(unlist(my.data)), nclass=100, xlab=\"gene expression\", main=\"Histogram of ADR gene expression data\", \n",
    "      ylim=c(1,70000))"
   ]
  },
  {
   "cell_type": "markdown",
   "metadata": {},
   "source": [
    "## Your task 1: plot a histogram for gene ATF1."
   ]
  },
  {
   "cell_type": "code",
   "execution_count": 28,
   "metadata": {},
   "outputs": [
    {
     "data": {
      "text/html": [
       "2"
      ],
      "text/latex": [
       "2"
      ],
      "text/markdown": [
       "2"
      ],
      "text/plain": [
       "[1] 2"
      ]
     },
     "metadata": {},
     "output_type": "display_data"
    }
   ],
   "source": [
    "which (dimnames(my.data)[[2]] == \"ATF1\")"
   ]
  },
  {
   "cell_type": "code",
   "execution_count": 29,
   "metadata": {},
   "outputs": [
    {
     "data": {
      "image/png": "[encoded data removed]",
      "text/plain": [
       "Plot with title “Histogram of my.data[, 2]”"
      ]
     },
     "metadata": {},
     "output_type": "display_data"
    }
   ],
   "source": [
    "hist (my.data[, 2])"
   ]
  },
  {
   "cell_type": "markdown",
   "metadata": {},
   "source": [
    "## 3. Check the range of the data"
   ]
  },
  {
   "cell_type": "code",
   "execution_count": 32,
   "metadata": {},
   "outputs": [
    {
     "data": {
      "text/html": [
       "0.444958750204"
      ],
      "text/latex": [
       "0.444958750204"
      ],
      "text/markdown": [
       "0.444958750204"
      ],
      "text/plain": [
       "[1] 0.4449588"
      ]
     },
     "metadata": {},
     "output_type": "display_data"
    },
    {
     "data": {
      "text/html": [
       "-0.445891840096"
      ],
      "text/latex": [
       "-0.445891840096"
      ],
      "text/markdown": [
       "-0.445891840096"
      ],
      "text/plain": [
       "[1] -0.4458918"
      ]
     },
     "metadata": {},
     "output_type": "display_data"
    },
    {
     "data": {
      "text/html": [
       "1.09154068343743e-17"
      ],
      "text/latex": [
       "1.09154068343743e-17"
      ],
      "text/markdown": [
       "1.09154068343743e-17"
      ],
      "text/plain": [
       "[1] 1.091541e-17"
      ]
     },
     "metadata": {},
     "output_type": "display_data"
    },
    {
     "data": {
      "text/html": [
       "0.0003589745242475"
      ],
      "text/latex": [
       "0.0003589745242475"
      ],
      "text/markdown": [
       "0.0003589745242475"
      ],
      "text/plain": [
       "[1] 0.0003589745"
      ]
     },
     "metadata": {},
     "output_type": "display_data"
    }
   ],
   "source": [
    "max(my.data)\n",
    "min (my.data)\n",
    "mean (as.vector(unlist(my.data)))\n",
    "median (as.vector(unlist(my.data)))"
   ]
  },
  {
   "cell_type": "code",
   "execution_count": 31,
   "metadata": {
    "collapsed": true
   },
   "outputs": [],
   "source": [
    "help (median)"
   ]
  },
  {
   "cell_type": "markdown",
   "metadata": {},
   "source": [
    "## 4. Boxplot"
   ]
  },
  {
   "cell_type": "code",
   "execution_count": 33,
   "metadata": {
    "collapsed": true
   },
   "outputs": [],
   "source": [
    "help (boxplot)"
   ]
  },
  {
   "cell_type": "code",
   "execution_count": 34,
   "metadata": {},
   "outputs": [
    {
     "data": {
      "image/png": "[encoded data removed]",
      "text/plain": [
       "plot without title"
      ]
     },
     "metadata": {},
     "output_type": "display_data"
    }
   ],
   "source": [
    "boxplot (my.data[, 1:3])"
   ]
  },
  {
   "cell_type": "markdown",
   "metadata": {},
   "source": [
    "## Correlation"
   ]
  },
  {
   "cell_type": "code",
   "execution_count": 35,
   "metadata": {},
   "outputs": [
    {
     "data": {
      "text/html": [
       "-1"
      ],
      "text/latex": [
       "-1"
      ],
      "text/markdown": [
       "-1"
      ],
      "text/plain": [
       "[1] -1"
      ]
     },
     "metadata": {},
     "output_type": "display_data"
    }
   ],
   "source": [
    "x <- c(1, 0, -1, 0)\n",
    "z <- c(-1, 0, 1, 0)\n",
    "cor(x,z)"
   ]
  },
  {
   "cell_type": "code",
   "execution_count": 36,
   "metadata": {},
   "outputs": [
    {
     "data": {
      "text/html": [
       "0.0266996630323925"
      ],
      "text/latex": [
       "0.0266996630323925"
      ],
      "text/markdown": [
       "0.0266996630323925"
      ],
      "text/plain": [
       "[1] 0.02669966"
      ]
     },
     "metadata": {},
     "output_type": "display_data"
    }
   ],
   "source": [
    "cor (my.data[,1], my.data[, 2])"
   ]
  },
  {
   "cell_type": "code",
   "execution_count": null,
   "metadata": {
    "collapsed": true
   },
   "outputs": [],
   "source": [
    "cor (my.data[,1], my.data[, 2])"
   ]
  }
 ],
 "metadata": {
  "kernelspec": {
   "display_name": "R",
   "language": "R",
   "name": "ir"
  },
  "language_info": {
   "codemirror_mode": "r",
   "file_extension": ".r",
   "mimetype": "text/x-r-source",
   "name": "R",
   "pygments_lexer": "r",
   "version": "3.4.4"
  }
 },
 "nbformat": 4,
 "nbformat_minor": 2
}
